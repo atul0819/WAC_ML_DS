{
 "cells": [
  {
   "cell_type": "code",
   "execution_count": 1,
   "metadata": {
    "colab": {
     "base_uri": "https://localhost:8080/",
     "height": 33
    },
    "colab_type": "code",
    "id": "swCJPGHHXnqF",
    "outputId": "139ccbf7-23a1-4fde-bcfa-82cc55af4e62"
   },
   "outputs": [
    {
     "name": "stderr",
     "output_type": "stream",
     "text": [
      "Using TensorFlow backend.\n"
     ]
    }
   ],
   "source": [
    "import numpy as np\n",
    "import keras as kr\n",
    "import matplotlib.pyplot as plt"
   ]
  },
  {
   "cell_type": "code",
   "execution_count": 0,
   "metadata": {
    "colab": {},
    "colab_type": "code",
    "id": "dmpNqgrIXqMb"
   },
   "outputs": [],
   "source": [
    "batch_size = 128\n",
    "epochs = 20\n",
    "num_classes = 10"
   ]
  },
  {
   "cell_type": "code",
   "execution_count": 3,
   "metadata": {
    "colab": {
     "base_uri": "https://localhost:8080/",
     "height": 147
    },
    "colab_type": "code",
    "id": "UkpsJxF1Xr7m",
    "outputId": "6ad29669-b07a-4e19-e704-836111b2a9da"
   },
   "outputs": [
    {
     "name": "stdout",
     "output_type": "stream",
     "text": [
      "Downloading data from http://fashion-mnist.s3-website.eu-central-1.amazonaws.com/train-labels-idx1-ubyte.gz\n",
      "32768/29515 [=================================] - 0s 3us/step\n",
      "Downloading data from http://fashion-mnist.s3-website.eu-central-1.amazonaws.com/train-images-idx3-ubyte.gz\n",
      "26427392/26421880 [==============================] - 2s 0us/step\n",
      "Downloading data from http://fashion-mnist.s3-website.eu-central-1.amazonaws.com/t10k-labels-idx1-ubyte.gz\n",
      "8192/5148 [===============================================] - 0s 0us/step\n",
      "Downloading data from http://fashion-mnist.s3-website.eu-central-1.amazonaws.com/t10k-images-idx3-ubyte.gz\n",
      "4423680/4422102 [==============================] - 1s 0us/step\n"
     ]
    }
   ],
   "source": [
    "(x_train, y_train), (x_test, y_test) = kr.datasets.fashion_mnist.load_data()"
   ]
  },
  {
   "cell_type": "code",
   "execution_count": 4,
   "metadata": {
    "colab": {
     "base_uri": "https://localhost:8080/",
     "height": 281
    },
    "colab_type": "code",
    "id": "k7optvy-Xw62",
    "outputId": "79c262e3-f257-4e26-cd6b-06731fa37ccb"
   },
   "outputs": [
    {
     "data": {
      "text/plain": [
       "<matplotlib.image.AxesImage at 0x7fa7418ffe80>"
      ]
     },
     "execution_count": 4,
     "metadata": {
      "tags": []
     },
     "output_type": "execute_result"
    },
    {
     "data": {
      "image/png": "[encoded data removed]",
      "text/plain": [
       "<Figure size 432x288 with 1 Axes>"
      ]
     },
     "metadata": {
      "needs_background": "light",
      "tags": []
     },
     "output_type": "display_data"
    }
   ],
   "source": [
    "plt.imshow(x_train[3])"
   ]
  },
  {
   "cell_type": "code",
   "execution_count": 0,
   "metadata": {
    "colab": {},
    "colab_type": "code",
    "id": "9SNEvftNYBDC"
   },
   "outputs": [],
   "source": [
    "xtrain = x_train.reshape(60000,784)\n",
    "xtest = x_test.reshape(10000,784)"
   ]
  },
  {
   "cell_type": "code",
   "execution_count": 0,
   "metadata": {
    "colab": {},
    "colab_type": "code",
    "id": "3C8S7qdUYEIh"
   },
   "outputs": [],
   "source": [
    "xtrain = xtrain.astype(\"float32\")\n",
    "xtest = xtest.astype(\"float32\")"
   ]
  },
  {
   "cell_type": "code",
   "execution_count": 0,
   "metadata": {
    "colab": {},
    "colab_type": "code",
    "id": "N-zDSesOYKe1"
   },
   "outputs": [],
   "source": [
    "xtrain = xtrain/255\n",
    "xtest = xtest/255"
   ]
  },
  {
   "cell_type": "code",
   "execution_count": 0,
   "metadata": {
    "colab": {},
    "colab_type": "code",
    "id": "JlM4Qw9iYL0T"
   },
   "outputs": [],
   "source": [
    "ytrain = kr.utils.to_categorical(y_train)\n",
    "ytest = kr.utils.to_categorical(y_test)"
   ]
  },
  {
   "cell_type": "code",
   "execution_count": 11,
   "metadata": {
    "colab": {
     "base_uri": "https://localhost:8080/",
     "height": 33
    },
    "colab_type": "code",
    "id": "Wk5z2-FPYNZT",
    "outputId": "b7693d06-8084-4a36-fe45-865abe61e8a9"
   },
   "outputs": [
    {
     "data": {
      "text/plain": [
       "array([1., 0., 0., 0., 0., 0., 0., 0., 0., 0.], dtype=float32)"
      ]
     },
     "execution_count": 11,
     "metadata": {
      "tags": []
     },
     "output_type": "execute_result"
    }
   ],
   "source": [
    "ytrain[1]"
   ]
  },
  {
   "cell_type": "code",
   "execution_count": 13,
   "metadata": {
    "colab": {
     "base_uri": "https://localhost:8080/",
     "height": 33
    },
    "colab_type": "code",
    "id": "kxJ7xTO1YRs2",
    "outputId": "5f4ba320-4723-480f-fd8e-6821a2769fe8"
   },
   "outputs": [
    {
     "data": {
      "text/plain": [
       "(60000, 10)"
      ]
     },
     "execution_count": 13,
     "metadata": {
      "tags": []
     },
     "output_type": "execute_result"
    }
   ],
   "source": [
    "ytrain.shape"
   ]
  },
  {
   "cell_type": "code",
   "execution_count": 0,
   "metadata": {
    "colab": {},
    "colab_type": "code",
    "id": "LQWQ4HObYWo0"
   },
   "outputs": [],
   "source": [
    "model  = kr.models.Sequential()\n",
    "model.add(kr.layers.Dense(512 ,activation=\"sigmoid\" , input_shape=(784,)))\n",
    "model.add(kr.layers.Dense(512 , activation=\"sigmoid\" ))\n",
    "model.add(kr.layers.Dense(10, activation=\"softmax\" ))"
   ]
  },
  {
   "cell_type": "code",
   "execution_count": 16,
   "metadata": {
    "colab": {
     "base_uri": "https://localhost:8080/",
     "height": 245
    },
    "colab_type": "code",
    "id": "VdAEoySvYXOK",
    "outputId": "79e5d7cf-4b49-453f-caef-87d63cc441c5"
   },
   "outputs": [
    {
     "name": "stdout",
     "output_type": "stream",
     "text": [
      "Model: \"sequential_1\"\n",
      "_________________________________________________________________\n",
      "Layer (type)                 Output Shape              Param #   \n",
      "=================================================================\n",
      "dense_1 (Dense)              (None, 512)               401920    \n",
      "_________________________________________________________________\n",
      "dense_2 (Dense)              (None, 512)               262656    \n",
      "_________________________________________________________________\n",
      "dense_3 (Dense)              (None, 10)                5130      \n",
      "=================================================================\n",
      "Total params: 669,706\n",
      "Trainable params: 669,706\n",
      "Non-trainable params: 0\n",
      "_________________________________________________________________\n"
     ]
    }
   ],
   "source": [
    "model.summary()"
   ]
  },
  {
   "cell_type": "code",
   "execution_count": 0,
   "metadata": {
    "colab": {},
    "colab_type": "code",
    "id": "tf6tFzYSYdO7"
   },
   "outputs": [],
   "source": [
    "model.compile(optimizer=\"adam\" , loss=\"categorical_crossentropy\" , metrics=[\"accuracy\"])"
   ]
  },
  {
   "cell_type": "code",
   "execution_count": 23,
   "metadata": {
    "colab": {
     "base_uri": "https://localhost:8080/",
     "height": 667
    },
    "colab_type": "code",
    "id": "ZA9WR2EcYjyk",
    "outputId": "d6bda64a-72c3-4585-8d24-24ac6ef99557"
   },
   "outputs": [
    {
     "name": "stdout",
     "output_type": "stream",
     "text": [
      "Epoch 1/20\n",
      "60000/60000 [==============================] - 7s 124us/step - loss: 0.3313 - accuracy: 0.8788\n",
      "Epoch 2/20\n",
      "60000/60000 [==============================] - 7s 123us/step - loss: 0.3115 - accuracy: 0.8849\n",
      "Epoch 3/20\n",
      "60000/60000 [==============================] - 7s 124us/step - loss: 0.2987 - accuracy: 0.8906\n",
      "Epoch 4/20\n",
      "60000/60000 [==============================] - 8s 127us/step - loss: 0.2853 - accuracy: 0.8948\n",
      "Epoch 5/20\n",
      "60000/60000 [==============================] - 7s 124us/step - loss: 0.2722 - accuracy: 0.8984\n",
      "Epoch 6/20\n",
      "60000/60000 [==============================] - 8s 127us/step - loss: 0.2634 - accuracy: 0.9018\n",
      "Epoch 7/20\n",
      "60000/60000 [==============================] - 7s 123us/step - loss: 0.2498 - accuracy: 0.9065\n",
      "Epoch 8/20\n",
      "60000/60000 [==============================] - 8s 125us/step - loss: 0.2434 - accuracy: 0.9073\n",
      "Epoch 9/20\n",
      "60000/60000 [==============================] - 7s 122us/step - loss: 0.2311 - accuracy: 0.9136\n",
      "Epoch 10/20\n",
      "60000/60000 [==============================] - 8s 125us/step - loss: 0.2230 - accuracy: 0.9156\n",
      "Epoch 11/20\n",
      "60000/60000 [==============================] - 8s 126us/step - loss: 0.2156 - accuracy: 0.9199\n",
      "Epoch 12/20\n",
      "60000/60000 [==============================] - 7s 123us/step - loss: 0.2070 - accuracy: 0.9215\n",
      "Epoch 13/20\n",
      "60000/60000 [==============================] - 7s 124us/step - loss: 0.2008 - accuracy: 0.9244\n",
      "Epoch 14/20\n",
      "60000/60000 [==============================] - 7s 120us/step - loss: 0.1944 - accuracy: 0.9258\n",
      "Epoch 15/20\n",
      "60000/60000 [==============================] - 8s 128us/step - loss: 0.1888 - accuracy: 0.9287\n",
      "Epoch 16/20\n",
      "60000/60000 [==============================] - 7s 123us/step - loss: 0.1818 - accuracy: 0.9310\n",
      "Epoch 17/20\n",
      "60000/60000 [==============================] - 7s 123us/step - loss: 0.1719 - accuracy: 0.9347\n",
      "Epoch 18/20\n",
      "60000/60000 [==============================] - 8s 127us/step - loss: 0.1697 - accuracy: 0.9360\n",
      "Epoch 19/20\n",
      "60000/60000 [==============================] - 7s 122us/step - loss: 0.1619 - accuracy: 0.9392\n",
      "Epoch 20/20\n",
      "60000/60000 [==============================] - 7s 123us/step - loss: 0.1549 - accuracy: 0.9414\n"
     ]
    }
   ],
   "source": [
    "hist = model.fit(xtrain , ytrain , epochs=epochs , batch_size=batch_size )"
   ]
  },
  {
   "cell_type": "code",
   "execution_count": 0,
   "metadata": {
    "colab": {},
    "colab_type": "code",
    "id": "qX-YNlmEYr3n"
   },
   "outputs": [],
   "source": [
    "model.save(\"model.h5\")"
   ]
  },
  {
   "cell_type": "code",
   "execution_count": 0,
   "metadata": {
    "colab": {},
    "colab_type": "code",
    "id": "HczWBBjgY2SR"
   },
   "outputs": [],
   "source": [
    "model.load_weights(\"model.h5\")"
   ]
  },
  {
   "cell_type": "code",
   "execution_count": 26,
   "metadata": {
    "colab": {
     "base_uri": "https://localhost:8080/",
     "height": 281
    },
    "colab_type": "code",
    "id": "4xH6hgCCY4AC",
    "outputId": "25f73e5f-a0f5-4e30-bccd-3976d03a8540"
   },
   "outputs": [
    {
     "data": {
      "text/plain": [
       "[<matplotlib.lines.Line2D at 0x7fa73a0719e8>]"
      ]
     },
     "execution_count": 26,
     "metadata": {
      "tags": []
     },
     "output_type": "execute_result"
    },
    {
     "data": {
      "image/png": "[encoded data removed]",
      "text/plain": [
       "<Figure size 432x288 with 1 Axes>"
      ]
     },
     "metadata": {
      "needs_background": "light",
      "tags": []
     },
     "output_type": "display_data"
    }
   ],
   "source": [
    "plt.plot(hist.history[\"accuracy\"])\n",
    "plt.plot(hist.history[\"loss\"])"
   ]
  },
  {
   "cell_type": "code",
   "execution_count": 0,
   "metadata": {
    "colab": {},
    "colab_type": "code",
    "id": "LTNnbWliY6Ww"
   },
   "outputs": [],
   "source": []
  }
 ],
 "metadata": {
  "colab": {
   "name": "Untitled1.ipynb",
   "provenance": []
  },
  "kernelspec": {
   "display_name": "Python 3",
   "language": "python",
   "name": "python3"
  },
  "language_info": {
   "codemirror_mode": {
    "name": "ipython",
    "version": 3
   },
   "file_extension": ".py",
   "mimetype": "text/x-python",
   "name": "python",
   "nbconvert_exporter": "python",
   "pygments_lexer": "ipython3",
   "version": "3.6.6"
  }
 },
 "nbformat": 4,
 "nbformat_minor": 1
}
