{
 "cells": [
  {
   "cell_type": "markdown",
   "metadata": {
    "colab_type": "text",
    "id": "7fhvnwR1W6bS"
   },
   "source": [
    "## Pandas\n",
    "Pandas is a very popular Python library that is used for data analysis, which is the second step of the Data Science lifecycle. It offers functionalities to handle and manipulate data very efficiently. It has been widely adopted by people who are not computer scientists or programmers as it makes them move beyond Excel for analyzing data. We will be using Pandas in this course for all of our analyses.\n",
    "\n"
   ]
  },
  {
   "cell_type": "code",
   "execution_count": 1,
   "metadata": {},
   "outputs": [],
   "source": [
    "import pandas as pd"
   ]
  },
  {
   "cell_type": "code",
   "execution_count": 48,
   "metadata": {},
   "outputs": [
    {
     "name": "stdout",
     "output_type": "stream",
     "text": [
      "0    Jitender\n",
      "1     Purnima\n",
      "2       Arpit\n",
      "3       Jyoti\n",
      "dtype: object\n"
     ]
    }
   ],
   "source": [
    "author = ['Jitender', 'Purnima', 'Arpit', 'Jyoti'] \n",
    "  \n",
    "auth_series = pd.Series(author) \n",
    "print(auth_series) "
   ]
  },
  {
   "cell_type": "code",
   "execution_count": 49,
   "metadata": {},
   "outputs": [
    {
     "name": "stdout",
     "output_type": "stream",
     "text": [
      "     Author  Article\n",
      "0  Jitender      210\n",
      "1   Purnima      211\n",
      "2     Arpit      114\n",
      "3     Jyoti      178\n"
     ]
    }
   ],
   "source": [
    "author = ['Jitender', 'Purnima', 'Arpit', 'Jyoti'] \n",
    "article = [210, 211, 114, 178] \n",
    "  \n",
    "auth_series = pd.Series(author) \n",
    "article_series = pd.Series(article) \n",
    "  \n",
    "frame = { 'Author': auth_series, 'Article': article_series } \n",
    "  \n",
    "result = pd.DataFrame(frame) \n",
    "  \n",
    "print(result) "
   ]
  },
  {
   "cell_type": "markdown",
   "metadata": {
    "colab_type": "text",
    "id": "5Pb9EHUYYZeI"
   },
   "source": [
    "#### Importing Data from CSV file\n",
    "### What is CSV file?"
   ]
  },
  {
   "cell_type": "code",
   "execution_count": 7,
   "metadata": {
    "colab": {
     "base_uri": "https://localhost:8080/",
     "height": 377
    },
    "colab_type": "code",
    "id": "UkL7xEalYfWY",
    "outputId": "83bdf2d7-2b96-41fb-e569-9d01f2ba9ef7"
   },
   "outputs": [
    {
     "name": "stderr",
     "output_type": "stream",
     "text": [
      "--2020-05-27 13:03:33--  https://www.dropbox.com/s/ogg0uy4jijp5ryt/housing.csv\n",
      "Resolving www.dropbox.com... 162.125.82.1\n",
      "Connecting to www.dropbox.com|162.125.82.1|:443... connected.\n",
      "ERROR: cannot verify www.dropbox.com's certificate, issued by `/C=US/O=DigiCert Inc/OU=www.digicert.com/CN=DigiCert SHA2 Extended Validation Server CA':\n",
      "  Unable to locally verify the issuer's authority.\n",
      "To connect to www.dropbox.com insecurely, use `--no-check-certificate'.\n",
      "Unable to establish SSL connection.\n"
     ]
    }
   ],
   "source": [
    "!wget https://www.dropbox.com/s/ogg0uy4jijp5ryt/housing.csv"
   ]
  },
  {
   "cell_type": "code",
   "execution_count": 2,
   "metadata": {
    "colab": {
     "base_uri": "https://localhost:8080/",
     "height": 714
    },
    "colab_type": "code",
    "id": "UUvnkDb_Y5FJ",
    "outputId": "3d301f0e-d7af-49b7-b505-195a672eecd8"
   },
   "outputs": [],
   "source": [
    "import pandas as pd\n",
    "\n",
    "# read the file \n",
    "df = pd.read_csv(r'C:\\Users\\PIYUSH\\Downloads\\housing.csv')\n",
    "\n",
    "#documentation \n",
    "# read_csv?\n",
    "# actual documentation\n",
    "\n",
    "# # Shape of the dataframe \n",
    "# print('Shape of dataframe',df.shape)\n",
    "\n",
    "# # information about the data set\n",
    "# print('\\n',df.info())\n",
    "\n",
    "# # print the first 5 rows \n",
    "# print('\\n',df.head())\n",
    "\n",
    "# print(df.describe(include='all').T)"
   ]
  },
  {
   "cell_type": "code",
   "execution_count": 5,
   "metadata": {
    "colab": {},
    "colab_type": "code",
    "id": "ZHl_L37LnC9b"
   },
   "outputs": [
    {
     "data": {
      "text/html": [
       "<div>\n",
       "<style scoped>\n",
       "    .dataframe tbody tr th:only-of-type {\n",
       "        vertical-align: middle;\n",
       "    }\n",
       "\n",
       "    .dataframe tbody tr th {\n",
       "        vertical-align: top;\n",
       "    }\n",
       "\n",
       "    .dataframe thead th {\n",
       "        text-align: right;\n",
       "    }\n",
       "</style>\n",
       "<table border=\"1\" class=\"dataframe\">\n",
       "  <thead>\n",
       "    <tr style=\"text-align: right;\">\n",
       "      <th></th>\n",
       "      <th>longitude</th>\n",
       "      <th>latitude</th>\n",
       "      <th>housing_median_age</th>\n",
       "      <th>total_rooms</th>\n",
       "      <th>total_bedrooms</th>\n",
       "      <th>population</th>\n",
       "      <th>households</th>\n",
       "      <th>median_income</th>\n",
       "      <th>median_house_value</th>\n",
       "    </tr>\n",
       "  </thead>\n",
       "  <tbody>\n",
       "    <tr>\n",
       "      <th>count</th>\n",
       "      <td>20640.000000</td>\n",
       "      <td>20640.000000</td>\n",
       "      <td>20640.000000</td>\n",
       "      <td>20640.000000</td>\n",
       "      <td>20433.000000</td>\n",
       "      <td>20640.000000</td>\n",
       "      <td>20640.000000</td>\n",
       "      <td>20640.000000</td>\n",
       "      <td>20640.000000</td>\n",
       "    </tr>\n",
       "    <tr>\n",
       "      <th>mean</th>\n",
       "      <td>-119.569704</td>\n",
       "      <td>35.631861</td>\n",
       "      <td>28.639486</td>\n",
       "      <td>2635.763081</td>\n",
       "      <td>537.870553</td>\n",
       "      <td>1425.476744</td>\n",
       "      <td>499.539680</td>\n",
       "      <td>3.870671</td>\n",
       "      <td>206855.816909</td>\n",
       "    </tr>\n",
       "    <tr>\n",
       "      <th>std</th>\n",
       "      <td>2.003532</td>\n",
       "      <td>2.135952</td>\n",
       "      <td>12.585558</td>\n",
       "      <td>2181.615252</td>\n",
       "      <td>421.385070</td>\n",
       "      <td>1132.462122</td>\n",
       "      <td>382.329753</td>\n",
       "      <td>1.899822</td>\n",
       "      <td>115395.615874</td>\n",
       "    </tr>\n",
       "    <tr>\n",
       "      <th>min</th>\n",
       "      <td>-124.350000</td>\n",
       "      <td>32.540000</td>\n",
       "      <td>1.000000</td>\n",
       "      <td>2.000000</td>\n",
       "      <td>1.000000</td>\n",
       "      <td>3.000000</td>\n",
       "      <td>1.000000</td>\n",
       "      <td>0.499900</td>\n",
       "      <td>14999.000000</td>\n",
       "    </tr>\n",
       "    <tr>\n",
       "      <th>25%</th>\n",
       "      <td>-121.800000</td>\n",
       "      <td>33.930000</td>\n",
       "      <td>18.000000</td>\n",
       "      <td>1447.750000</td>\n",
       "      <td>296.000000</td>\n",
       "      <td>787.000000</td>\n",
       "      <td>280.000000</td>\n",
       "      <td>2.563400</td>\n",
       "      <td>119600.000000</td>\n",
       "    </tr>\n",
       "    <tr>\n",
       "      <th>50%</th>\n",
       "      <td>-118.490000</td>\n",
       "      <td>34.260000</td>\n",
       "      <td>29.000000</td>\n",
       "      <td>2127.000000</td>\n",
       "      <td>435.000000</td>\n",
       "      <td>1166.000000</td>\n",
       "      <td>409.000000</td>\n",
       "      <td>3.534800</td>\n",
       "      <td>179700.000000</td>\n",
       "    </tr>\n",
       "    <tr>\n",
       "      <th>75%</th>\n",
       "      <td>-118.010000</td>\n",
       "      <td>37.710000</td>\n",
       "      <td>37.000000</td>\n",
       "      <td>3148.000000</td>\n",
       "      <td>647.000000</td>\n",
       "      <td>1725.000000</td>\n",
       "      <td>605.000000</td>\n",
       "      <td>4.743250</td>\n",
       "      <td>264725.000000</td>\n",
       "    </tr>\n",
       "    <tr>\n",
       "      <th>max</th>\n",
       "      <td>-114.310000</td>\n",
       "      <td>41.950000</td>\n",
       "      <td>52.000000</td>\n",
       "      <td>39320.000000</td>\n",
       "      <td>6445.000000</td>\n",
       "      <td>35682.000000</td>\n",
       "      <td>6082.000000</td>\n",
       "      <td>15.000100</td>\n",
       "      <td>500001.000000</td>\n",
       "    </tr>\n",
       "  </tbody>\n",
       "</table>\n",
       "</div>"
      ],
      "text/plain": [
       "          longitude      latitude  housing_median_age   total_rooms  \\\n",
       "count  20640.000000  20640.000000        20640.000000  20640.000000   \n",
       "mean    -119.569704     35.631861           28.639486   2635.763081   \n",
       "std        2.003532      2.135952           12.585558   2181.615252   \n",
       "min     -124.350000     32.540000            1.000000      2.000000   \n",
       "25%     -121.800000     33.930000           18.000000   1447.750000   \n",
       "50%     -118.490000     34.260000           29.000000   2127.000000   \n",
       "75%     -118.010000     37.710000           37.000000   3148.000000   \n",
       "max     -114.310000     41.950000           52.000000  39320.000000   \n",
       "\n",
       "       total_bedrooms    population    households  median_income  \\\n",
       "count    20433.000000  20640.000000  20640.000000   20640.000000   \n",
       "mean       537.870553   1425.476744    499.539680       3.870671   \n",
       "std        421.385070   1132.462122    382.329753       1.899822   \n",
       "min          1.000000      3.000000      1.000000       0.499900   \n",
       "25%        296.000000    787.000000    280.000000       2.563400   \n",
       "50%        435.000000   1166.000000    409.000000       3.534800   \n",
       "75%        647.000000   1725.000000    605.000000       4.743250   \n",
       "max       6445.000000  35682.000000   6082.000000      15.000100   \n",
       "\n",
       "       median_house_value  \n",
       "count        20640.000000  \n",
       "mean        206855.816909  \n",
       "std         115395.615874  \n",
       "min          14999.000000  \n",
       "25%         119600.000000  \n",
       "50%         179700.000000  \n",
       "75%         264725.000000  \n",
       "max         500001.000000  "
      ]
     },
     "execution_count": 5,
     "metadata": {},
     "output_type": "execute_result"
    }
   ],
   "source": [
    "df.describe()"
   ]
  },
  {
   "cell_type": "markdown",
   "metadata": {
    "colab_type": "text",
    "id": "H-O4D5SLZRik"
   },
   "source": [
    "### Indexing and Selection\n",
    "\n",
    "\n",
    "* Columns\n",
    "* Selecting columns\n",
    "* Changing column names\n",
    "* Rows\n",
    "* Indexing both rows and columns\n",
    "* Setting values\n",
    "* Series vs Dataframe\n",
    "\n",
    "\n"
   ]
  },
  {
   "cell_type": "code",
   "execution_count": 0,
   "metadata": {
    "colab": {
     "base_uri": "https://localhost:8080/",
     "height": 90
    },
    "colab_type": "code",
    "id": "_3yHGuFYZIMB",
    "outputId": "c580dbe6-0cb3-4e63-9cbf-372049f0e301"
   },
   "outputs": [
    {
     "name": "stdout",
     "output_type": "stream",
     "text": [
      "['longitude' 'latitude' 'housing_median_age' 'total_rooms'\n",
      " 'total_bedrooms' 'population' 'households' 'median_income'\n",
      " 'median_house_value' 'ocean_proximity']\n",
      "number of columns:  10\n"
     ]
    }
   ],
   "source": [
    "# Print Column names\n",
    "print(df.columns.values)  \n",
    "\n",
    "# Number of columns\n",
    "num = len(df.columns)\n",
    "print(\"number of columns: \",num)\n",
    "\n"
   ]
  },
  {
   "cell_type": "code",
   "execution_count": 0,
   "metadata": {
    "colab": {},
    "colab_type": "code",
    "id": "TBPCMzrDZDXz"
   },
   "outputs": [],
   "source": [
    "# selecting column\n",
    "\n",
    "import pandas as pd \n",
    "df = pd.read_csv('housing.csv')\n",
    "\n",
    "new_df = df['population']\n",
    "print(new_df.head())\n",
    "\n",
    "# Make a list of the columns to select\n",
    "col_to_select = ['longitude','latitude','population', 'ocean_proximity']\n",
    "\n",
    "# Collect the specified columns and print them\n",
    "new_df = df[col_to_select]\n",
    "print('\\n\\n',new_df.head())"
   ]
  },
  {
   "cell_type": "code",
   "execution_count": 0,
   "metadata": {
    "colab": {
     "base_uri": "https://localhost:8080/",
     "height": 290
    },
    "colab_type": "code",
    "id": "B64w-SBfaZax",
    "outputId": "780a265d-7197-44cf-829b-44b47d0349cf"
   },
   "outputs": [
    {
     "name": "stdout",
     "output_type": "stream",
     "text": [
      "['long' 'lat' 'housing_med_age' 'total_rooms' 'total_bedrooms' 'pop'\n",
      " 'households' 'med_income' 'med_house_value' 'ocean_proximity'] \n",
      "\n",
      "['longitude' 'lat' 'housing_med_age' 'total_rooms' 'total_bedrooms'\n",
      " 'population' 'households' 'med_income' 'med_house_value'\n",
      " 'ocean_proximity'] \n",
      "\n",
      "   longitude    lat  ...  med_house_value  ocean_proximity\n",
      "0    -122.23  37.88  ...         452600.0         NEAR BAY\n",
      "1    -122.22  37.86  ...         358500.0         NEAR BAY\n",
      "2    -122.24  37.85  ...         352100.0         NEAR BAY\n",
      "3    -122.25  37.85  ...         341300.0         NEAR BAY\n",
      "4    -122.25  37.85  ...         342200.0         NEAR BAY\n",
      "\n",
      "[5 rows x 10 columns]\n"
     ]
    }
   ],
   "source": [
    "#changing column name\n",
    "\n",
    "\n",
    "# change or add column names\n",
    "df.columns = ['long' , 'lat' ,'housing_med_age', 'total_rooms',\n",
    " 'total_bedrooms', 'pop', 'households', 'med_income',\n",
    " 'med_house_value' , 'ocean_proximity']\n",
    "\n",
    "print(df.columns.values,'\\n')\n",
    "\n",
    "# rename speific column names\n",
    "df.rename(columns = {'pop':'population', \n",
    "                    'long':'longitude'},inplace=True)\n",
    "\n",
    "print(df.columns.values,'\\n')\n",
    "\n",
    "print(df.head())"
   ]
  },
  {
   "cell_type": "code",
   "execution_count": 0,
   "metadata": {
    "colab": {},
    "colab_type": "code",
    "id": "RxpPIKB7alM2"
   },
   "outputs": [],
   "source": [
    "# Rows\n",
    "# specify rows to select\n",
    "rows_to_select = [0,2,5,8]\n",
    "new_df = df.loc[rows_to_select]\n",
    "print(new_df,'\\n')\n",
    "\n",
    "# specify a range of rows directly\n",
    "new_df = df.loc[3:7]\n",
    "print(new_df)"
   ]
  },
  {
   "cell_type": "code",
   "execution_count": 20,
   "metadata": {
    "colab": {
     "base_uri": "https://localhost:8080/",
     "height": 115
    },
    "colab_type": "code",
    "id": "7qqgksVMawaB",
    "outputId": "5b795497-acca-44ba-93fc-39feafa7c5cc"
   },
   "outputs": [
    {
     "name": "stdout",
     "output_type": "stream",
     "text": [
      "   longitude  latitude  population\n",
      "0    -122.23     37.88       322.0\n",
      "1    -122.22     37.86      2401.0\n",
      "2    -122.24     37.85       496.0\n",
      "3    -122.25     37.85       558.0\n",
      "4    -122.25     37.85       565.0\n"
     ]
    }
   ],
   "source": [
    "# Indexing both rows and columns\n",
    "# import pandas as pd \n",
    "# df = pd.read_csv('housing.csv')\n",
    "\n",
    "# specify the columns \n",
    "col_to_select = ['longitude','latitude','population']\n",
    "\n",
    "# pass the rows and columns\n",
    "new_df = df.loc[0:5,col_to_select]\n",
    "\n",
    "print(new_df.head())\n",
    "\n"
   ]
  },
  {
   "cell_type": "code",
   "execution_count": 21,
   "metadata": {
    "colab": {
     "base_uri": "https://localhost:8080/",
     "height": 147
    },
    "colab_type": "code",
    "id": "QeYOTT7ih1Y1",
    "outputId": "994bde33-29b2-4a45-f030-d8b54a1d3e44"
   },
   "outputs": [
    {
     "name": "stdout",
     "output_type": "stream",
     "text": [
      "   longitude  latitude  housing_median_age  total_rooms  total_bedrooms  \\\n",
      "0       0.00     37.88                41.0        880.0           129.0   \n",
      "1    -122.22     37.86                21.0       7099.0          1106.0   \n",
      "2    -122.24     37.85                52.0       1467.0           190.0   \n",
      "3    -122.25     37.85                52.0       1274.0           235.0   \n",
      "4    -122.25     37.85                52.0       1627.0           280.0   \n",
      "\n",
      "   population  households  median_income  median_house_value ocean_proximity  \n",
      "0       322.0       126.0         8.3252            452600.0        NEAR BAY  \n",
      "1      2401.0      1138.0         8.3014            358500.0        NEAR BAY  \n",
      "2       496.0       177.0         7.2574            352100.0        NEAR BAY  \n",
      "3       558.0       219.0         5.6431            341300.0        NEAR BAY  \n",
      "4       565.0       259.0         3.8462            342200.0        NEAR BAY  \n"
     ]
    }
   ],
   "source": [
    "#setting the value\n",
    "\n",
    "# pass the rows and columns\n",
    "df.loc[0,'longitude'] = 0\n",
    "\n",
    "print(df.head())"
   ]
  },
  {
   "cell_type": "code",
   "execution_count": 0,
   "metadata": {
    "colab": {
     "base_uri": "https://localhost:8080/",
     "height": 310
    },
    "colab_type": "code",
    "id": "Rq5vmTGKh5v3",
    "outputId": "edc15188-35fe-4447-9fc0-5400970d8f74"
   },
   "outputs": [
    {
     "name": "stdout",
     "output_type": "stream",
     "text": [
      "0     322.0\n",
      "1    2401.0\n",
      "2     496.0\n",
      "3     558.0\n",
      "4     565.0\n",
      "Name: population, dtype: float64\n",
      "   longitude  latitude  population\n",
      "0    -122.23     37.88       322.0\n",
      "1    -122.22     37.86      2401.0\n",
      "2    -122.24     37.85       496.0\n",
      "3    -122.25     37.85       558.0\n",
      "4    -122.25     37.85       565.0\n",
      "   population\n",
      "0       322.0\n",
      "1      2401.0\n",
      "2       496.0\n",
      "3       558.0\n",
      "4       565.0\n"
     ]
    }
   ],
   "source": [
    "# series vs dataframe\n",
    "\n",
    "# this will give a series\n",
    "# 1-d \n",
    "ser = df['population']\n",
    "print(ser.head())\n",
    "\n",
    "# this will give a dataframe\n",
    "cols_to_select = ['longitude','latitude','population']\n",
    "new_df = df[cols_to_select]\n",
    "print(new_df.head())\n",
    "\n",
    "# this will give a dataframe\n",
    "cols_to_select = ['population']\n",
    "new_df = df[cols_to_select]\n",
    "print(new_df.head())"
   ]
  },
  {
   "cell_type": "markdown",
   "metadata": {
    "colab_type": "text",
    "id": "JZgyXY4viEZ6"
   },
   "source": [
    "#### Filtering the data\n",
    "Filtering is the process of extracting a subset of your data based on some condition or constraint. These conditions can be on the values that the data items take. We filter data when we wish to look at a smaller part of the whole data. For instance, we may want:\n",
    "\n",
    "* the data in a particular period of the year\n",
    "* the data of the highest selling items\n",
    "* the data for a specific group of items\n",
    "* to remove extra or useless data"
   ]
  },
  {
   "cell_type": "code",
   "execution_count": 0,
   "metadata": {
    "colab": {
     "base_uri": "https://localhost:8080/",
     "height": 33
    },
    "colab_type": "code",
    "id": "ywD4cJ2Wh794",
    "outputId": "eec6c5fa-9e0b-4f36-a4b1-9b3bf6f6c070"
   },
   "outputs": [
    {
     "name": "stdout",
     "output_type": "stream",
     "text": [
      "['NEAR BAY' '<1H OCEAN' 'INLAND' 'NEAR OCEAN' 'ISLAND']\n"
     ]
    }
   ],
   "source": [
    "# Find all distinct values in ocean_proximity\n",
    "unique_values = df['ocean_proximity'].unique()\n",
    "print(unique_values)"
   ]
  },
  {
   "cell_type": "code",
   "execution_count": 24,
   "metadata": {
    "colab": {
     "base_uri": "https://localhost:8080/",
     "height": 163
    },
    "colab_type": "code",
    "id": "RM0mvhMPiQCX",
    "outputId": "42994ba5-d946-4c57-8401-b551cad41fbb"
   },
   "outputs": [
    {
     "name": "stdout",
     "output_type": "stream",
     "text": [
      "Shape of filtered dataframe :  (2658, 10)\n",
      "      longitude  latitude  housing_median_age  total_rooms  total_bedrooms  \\\n",
      "1850    -124.17     41.80                16.0       2739.0           480.0   \n",
      "1851    -124.30     41.80                19.0       2672.0           552.0   \n",
      "1852    -124.23     41.75                11.0       3159.0           616.0   \n",
      "1853    -124.21     41.77                17.0       3461.0           722.0   \n",
      "1854    -124.19     41.78                15.0       3140.0           714.0   \n",
      "\n",
      "      population  households  median_income  median_house_value  \\\n",
      "1850      1259.0       436.0         3.7557            109400.0   \n",
      "1851      1298.0       478.0         1.9797             85800.0   \n",
      "1852      1343.0       479.0         2.4805             73200.0   \n",
      "1853      1947.0       647.0         2.5795             68400.0   \n",
      "1854      1645.0       640.0         1.6654             74600.0   \n",
      "\n",
      "     ocean_proximity  \n",
      "1850      NEAR OCEAN  \n",
      "1851      NEAR OCEAN  \n",
      "1852      NEAR OCEAN  \n",
      "1853      NEAR OCEAN  \n",
      "1854      NEAR OCEAN  \n"
     ]
    }
   ],
   "source": [
    "# filter dataframe\n",
    "condition = df['ocean_proximity'] == 'NEAR OCEAN'\n",
    "# print(condition)\n",
    "filtered_df = df[condition]\n",
    "# filtered_df\n",
    "print('Shape of filtered dataframe : ', filtered_df.shape)\n",
    "print(filtered_df.head())"
   ]
  },
  {
   "cell_type": "code",
   "execution_count": 28,
   "metadata": {
    "colab": {
     "base_uri": "https://localhost:8080/",
     "height": 82
    },
    "colab_type": "code",
    "id": "uZNwIAoYiRpe",
    "outputId": "892f592b-b361-43c6-991c-1c74078f69f7"
   },
   "outputs": [
    {
     "name": "stdout",
     "output_type": "stream",
     "text": [
      "Shape of filtered dataframe 1:  (20617, 10)\n",
      "Shape of filtered dataframe 2:  (14089, 10)\n",
      "Shape of filtered dataframe 3:  (2, 10)\n",
      "Shape of filtered dataframe 4:  (4948, 10)\n"
     ]
    }
   ],
   "source": [
    "condition_1 = df['population'] < 10000\n",
    "filtered_df = df[condition_1]\n",
    "print('Shape of filtered dataframe 1: ', filtered_df.shape)\n",
    "\n",
    "\n",
    "condition_2 = df['ocean_proximity'] != 'INLAND'\n",
    "filtered_df = df[condition_2]\n",
    "print('Shape of filtered dataframe 2: ', filtered_df.shape)\n",
    "\n",
    "\n",
    "condition_3 = (df['population'] > 15000) & (df['households'] < 5000)\n",
    "filtered_df = df[condition_3]\n",
    "print('Shape of filtered dataframe 3: ', filtered_df.shape)\n",
    "\n",
    "\n",
    "condition_list = ['NEAR OCEAN', 'NEAR BAY'] \n",
    "condition_4 = df['ocean_proximity'].isin(condition_list)\n",
    "filtered_df = df[condition_4]\n",
    "print('Shape of filtered dataframe 4: ', filtered_df.shape)\n"
   ]
  },
  {
   "cell_type": "markdown",
   "metadata": {
    "colab_type": "text",
    "id": "1c64I7cRiYy0"
   },
   "source": [
    "#### Functions on individual Items of a column "
   ]
  },
  {
   "cell_type": "code",
   "execution_count": 0,
   "metadata": {
    "colab": {
     "base_uri": "https://localhost:8080/",
     "height": 261
    },
    "colab_type": "code",
    "id": "0QDbtnrxiUAa",
    "outputId": "4c1a79f9-90e9-4127-b9d4-2ed211224f04"
   },
   "outputs": [
    {
     "name": "stdout",
     "output_type": "stream",
     "text": [
      "0    8.3252\n",
      "1    8.3014\n",
      "2    7.2574\n",
      "3    5.6431\n",
      "4    3.8462\n",
      "Name: median_income, dtype: float64\n",
      "\n",
      "\n",
      " converted \n",
      " 0    83252.0\n",
      "1    83014.0\n",
      "2    72574.0\n",
      "3    56431.0\n",
      "4    38462.0\n",
      "Name: median_income, dtype: float64\n"
     ]
    }
   ],
   "source": [
    "# function that we will be applying to the data\n",
    "def convert(value):\n",
    "    return value * 10000\n",
    "\n",
    "print(df['median_income'].head())\n",
    "\n",
    "# apply function on a column element by element\n",
    "converted = df['median_income'].apply(convert)\n",
    "print('\\n\\n converted \\n',converted.head())\n",
    "\n",
    "# change the original dataframe to new values \n",
    "df['median_income'] = converted\n"
   ]
  },
  {
   "cell_type": "code",
   "execution_count": 0,
   "metadata": {
    "colab": {
     "base_uri": "https://localhost:8080/",
     "height": 245
    },
    "colab_type": "code",
    "id": "iIdqkHevicxk",
    "outputId": "a420a119-95ce-4cf8-94ec-7df70281cd0c"
   },
   "outputs": [
    {
     "name": "stdout",
     "output_type": "stream",
     "text": [
      "Original Values:\n",
      "0    83252.0\n",
      "1    83014.0\n",
      "2    72574.0\n",
      "3    56431.0\n",
      "4    38462.0\n",
      "Name: median_income, dtype: float64\n",
      "Converted Values: \n",
      "0    high-incomes\n",
      "1    high-incomes\n",
      "2    high-incomes\n",
      "3    high-incomes\n",
      "4    high-incomes\n",
      "Name: median_income, dtype: object\n"
     ]
    }
   ],
   "source": [
    "# Converting numerical values to categories #\n",
    "# During analysis, sometimes we want to classify our data into separate classes based on some criteria. For instance, we might want to separate these housing blocks into three distinct categories based on the median income of the households i.e.\n",
    "\n",
    "# High-incomes\n",
    "# Moderate-incomes\n",
    "# Low-incomes\n",
    "\n",
    "\n",
    "# Function to convert a single numerical value to a category\n",
    "def convert_categories(value):\n",
    "    if value > 10:\n",
    "        return 'high-incomes'\n",
    "    elif value > 2 and value < 10:\n",
    "        return 'moderate-incomes'\n",
    "    else:\n",
    "        return 'low-incomes'\n",
    "\n",
    "\n",
    "# print original value\n",
    "print('Original Values:')\n",
    "print(df['median_income'].head())\n",
    "\n",
    "# Apply Function on the column\n",
    "categories = df['median_income'].apply(convert_categories)\n",
    "print('Converted Values: ')\n",
    "print(categories.head())\n",
    "\n",
    "# make a new column in the dataframe\n",
    "df['income_category'] = categories \n",
    "\n"
   ]
  },
  {
   "cell_type": "markdown",
   "metadata": {
    "colab_type": "text",
    "id": "M_Coh-A4irBo"
   },
   "source": [
    "#### Aggregation\n",
    "Aggregation is the procedure of converting a large number of values, or a dataset, into a single value or quantity aimed to summarize or describe the data. During data analysis, we always want to summarize data in one way or another. When we take a sum, count the number of items, or take the average of some values we aggregate data. Common aggregation methods are:\n",
    "\n",
    "* sum\n",
    "* count\n",
    "* maximum\n",
    "* minimum\n",
    "* average"
   ]
  },
  {
   "cell_type": "code",
   "execution_count": 2,
   "metadata": {},
   "outputs": [
    {
     "name": "stdout",
     "output_type": "stream",
     "text": [
      "15\n"
     ]
    }
   ],
   "source": [
    "x = lambda a : a + 10\n",
    "print(x(5))"
   ]
  },
  {
   "cell_type": "code",
   "execution_count": 34,
   "metadata": {
    "colab": {
     "base_uri": "https://localhost:8080/",
     "height": 115
    },
    "colab_type": "code",
    "id": "ZeExnSGYiqc7",
    "outputId": "6e5a7742-af16-4d20-b6a3-23714f14bda4"
   },
   "outputs": [
    {
     "name": "stdout",
     "output_type": "stream",
     "text": [
      "total household blocks:  20640\n",
      "total households :  10310499.0\n",
      "minimum median income (in tens of thousabds of $) of a household: 0.4999\n",
      "maximum median house value of a household block: 500001.0\n",
      "average population of each block:  1425.4767441860465\n",
      "number of household blocks that have population greater than average population:  7512\n"
     ]
    }
   ],
   "source": [
    "import pandas as pd \n",
    "print('total household blocks: ', len(df))\n",
    "\n",
    "\n",
    "# Sum function\n",
    "summmation = df['households'].sum()\n",
    "print('total households : ', summmation)\n",
    "\n",
    "# Minimum Function\n",
    "minimum = df['median_income'].min()\n",
    "print('minimum median income (in tens of thousabds of $) of a household:', minimum)\n",
    "\n",
    "# maximum Function\n",
    "maximum = df['median_house_value'].max()\n",
    "print('maximum median house value of a household block:',maximum)\n",
    "\n",
    "# Average Function\n",
    "avg = df['population'].mean()\n",
    "print('average population of each block: ', avg)\n",
    "\n",
    "# Using aggregated value to filter\n",
    "condition = df['population'] > avg\n",
    "new_df = df[condition]\n",
    "print('number of household blocks that have population greater than average population: ', len(new_df))\n"
   ]
  },
  {
   "cell_type": "markdown",
   "metadata": {
    "colab_type": "text",
    "id": "_qFRP8-Bi4YU"
   },
   "source": [
    "#### Grouping the Data\n",
    "\n",
    "![Groupby explaination](https://data36.com/wp-content/uploads/2018/07/pandas-grouping-explained-1024x680.png)"
   ]
  },
  {
   "cell_type": "markdown",
   "metadata": {
    "colab_type": "text",
    "id": "G2lcZwcdjH3r"
   },
   "source": [
    "Problem : Find total population accross \"ocean_proximity \"\n"
   ]
  },
  {
   "cell_type": "code",
   "execution_count": 36,
   "metadata": {
    "colab": {},
    "colab_type": "code",
    "id": "0eSLDFeGilTd"
   },
   "outputs": [
    {
     "name": "stdout",
     "output_type": "stream",
     "text": [
      "                 population\n",
      "ocean_proximity            \n",
      "<1H OCEAN        13889374.0\n",
      "INLAND            9112744.0\n",
      "ISLAND               3340.0\n",
      "NEAR BAY          2817427.0\n",
      "NEAR OCEAN        3598955.0\n"
     ]
    }
   ],
   "source": [
    "import pandas as pd \n",
    "\n",
    "# filter data since we only need population adn ocean proximity\n",
    "cols_select = ['population','ocean_proximity']\n",
    "filtered_df = df[cols_select]\n",
    "# groupby and aggregate\n",
    "sums = filtered_df.groupby('ocean_proximity').sum()\n",
    "print(sums)\n"
   ]
  },
  {
   "cell_type": "markdown",
   "metadata": {
    "colab_type": "text",
    "id": "Tqe0T34MlWes"
   },
   "source": [
    "#### Pivoting \n",
    "dataset link https://www.dropbox.com/s/rlemzsk4qs0ze96/student-mat.csv\n",
    "\n",
    "Pivot Tables #\n",
    "Pivot tables are a summary of the whole data that give us useful information. These tables reorganize the desired data in a different format. These tables can transform data from columns to rows or rows to columns, or group data by any attribute. Because of the reorganization and transformation of the data, these tables were given the name pivot. These tables can include statistics such as sum, mean, maximum, minimum, and many more."
   ]
  },
  {
   "cell_type": "code",
   "execution_count": 37,
   "metadata": {
    "colab": {
     "base_uri": "https://localhost:8080/",
     "height": 362
    },
    "colab_type": "code",
    "id": "DRjPkDy4mLZ8",
    "outputId": "96bcd7c8-34fb-46a5-d5e7-9017d2c30c1b"
   },
   "outputs": [
    {
     "name": "stderr",
     "output_type": "stream",
     "text": [
      "--2020-05-27 15:22:13--  https://www.dropbox.com/s/rlemzsk4qs0ze96/student-mat.csv\n",
      "Resolving www.dropbox.com... 162.125.82.1\n",
      "Connecting to www.dropbox.com|162.125.82.1|:443... connected.\n",
      "ERROR: cannot verify www.dropbox.com's certificate, issued by `/C=US/O=DigiCert Inc/OU=www.digicert.com/CN=DigiCert SHA2 Extended Validation Server CA':\n",
      "  Unable to locally verify the issuer's authority.\n",
      "To connect to www.dropbox.com insecurely, use `--no-check-certificate'.\n",
      "Unable to establish SSL connection.\n"
     ]
    }
   ],
   "source": [
    "!wget https://www.dropbox.com/s/rlemzsk4qs0ze96/student-mat.csv"
   ]
  },
  {
   "cell_type": "code",
   "execution_count": 57,
   "metadata": {
    "colab": {
     "base_uri": "https://localhost:8080/",
     "height": 391
    },
    "colab_type": "code",
    "id": "1Ls-osQYkLEb",
    "outputId": "c3a71bbf-da61-4949-da65-18cc549423aa"
   },
   "outputs": [
    {
     "name": "stdout",
     "output_type": "stream",
     "text": [
      "\n",
      "\n",
      "             Dalc      Fedu         G1         G2         G3      Medu  \\\n",
      "school                                                                  \n",
      "GP      1.444126  2.553009  10.939828  10.782235  10.489971  2.802292   \n",
      "MS      1.760870  2.282609  10.673913  10.195652   9.847826  2.347826   \n",
      "\n",
      "            Walc  absences        age  failures    famrel  freetime     goout  \\\n",
      "school                                                                          \n",
      "GP      2.260745  5.965616  16.521490  0.318052  3.959885  3.223496  3.111748   \n",
      "MS      2.521739  3.760870  18.021739  0.456522  3.826087  3.326087  3.086957   \n",
      "\n",
      "          health  studytime  traveltime  \n",
      "school                                   \n",
      "GP      3.575931   2.063037    1.386819  \n",
      "MS      3.391304   1.826087    1.913043  \n"
     ]
    }
   ],
   "source": [
    "import pandas as pd \n",
    "df = pd.read_csv(r'C:\\Users\\PIYUSH\\Downloads\\student-mat.csv')\n",
    "# print(df.head())\n",
    "\n",
    "# pivot table\n",
    "table = df.pivot_table(index = 'school',aggfunc = 'mean')\n",
    "print('\\n\\n',table)\n",
    "\n",
    "\n",
    "# # choose which values to keep\n",
    "# table = df.pivot_table(index = 'school',values = ['G3','Walc','Dalc','studytime'],aggfunc = 'mean')\n",
    "# print('\\n\\n',table)"
   ]
  },
  {
   "cell_type": "code",
   "execution_count": 0,
   "metadata": {
    "colab": {
     "base_uri": "https://localhost:8080/",
     "height": 147
    },
    "colab_type": "code",
    "id": "OGsxKyCZmQJe",
    "outputId": "5aef02d5-9da6-421a-f740-4ae54611397f"
   },
   "outputs": [
    {
     "name": "stdout",
     "output_type": "stream",
     "text": [
      "\n",
      "\n",
      "         Dalc  Fedu    G1    G2  ...  goout  health  studytime  traveltime\n",
      "school                          ...                                      \n",
      "GP       504   891  3818  3763  ...   1086    1248        720         484\n",
      "MS        81   105   491   469  ...    142     156         84          88\n",
      "\n",
      "[2 rows x 16 columns]\n"
     ]
    }
   ],
   "source": [
    "import pandas as pd \n",
    "df = pd.read_csv('student-mat.csv')\n",
    "\n",
    "# pivot table\n",
    "table = df.pivot_table(index = 'school',aggfunc = 'sum')\n",
    "print('\\n\\n',table)"
   ]
  },
  {
   "cell_type": "code",
   "execution_count": 55,
   "metadata": {
    "colab": {},
    "colab_type": "code",
    "id": "qBhBPH2RoiP2"
   },
   "outputs": [
    {
     "ename": "TypeError",
     "evalue": "'tuple' object does not support item assignment",
     "output_type": "error",
     "traceback": [
      "\u001b[1;31m---------------------------------------------------------------------------\u001b[0m",
      "\u001b[1;31mTypeError\u001b[0m                                 Traceback (most recent call last)",
      "\u001b[1;32m<ipython-input-55-6fa8312b35e9>\u001b[0m in \u001b[0;36m<module>\u001b[1;34m()\u001b[0m\n\u001b[0;32m      1\u001b[0m \u001b[0ms\u001b[0m\u001b[1;33m=\u001b[0m\u001b[1;33m(\u001b[0m\u001b[1;36m1\u001b[0m\u001b[1;33m,\u001b[0m\u001b[1;36m2\u001b[0m\u001b[1;33m,\u001b[0m\u001b[1;36m3\u001b[0m\u001b[1;33m)\u001b[0m\u001b[1;33m\u001b[0m\u001b[0m\n\u001b[1;32m----> 2\u001b[1;33m \u001b[0ms\u001b[0m\u001b[1;33m[\u001b[0m\u001b[1;36m3\u001b[0m\u001b[1;33m]\u001b[0m\u001b[1;33m=\u001b[0m\u001b[1;36m2\u001b[0m\u001b[1;33m\u001b[0m\u001b[0m\n\u001b[0m",
      "\u001b[1;31mTypeError\u001b[0m: 'tuple' object does not support item assignment"
     ]
    }
   ],
   "source": [
    "s=(1,2,3)"
   ]
  }
 ],
 "metadata": {
  "colab": {
   "name": "pandas_tutorial",
   "provenance": []
  },
  "kernelspec": {
   "display_name": "Python 3",
   "language": "python",
   "name": "python3"
  },
  "language_info": {
   "codemirror_mode": {
    "name": "ipython",
    "version": 3
   },
   "file_extension": ".py",
   "mimetype": "text/x-python",
   "name": "python",
   "nbconvert_exporter": "python",
   "pygments_lexer": "ipython3",
   "version": "3.6.6"
  }
 },
 "nbformat": 4,
 "nbformat_minor": 1
}
